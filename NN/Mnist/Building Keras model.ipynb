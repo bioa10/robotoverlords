{
 "cells": [
  {
   "cell_type": "code",
   "execution_count": 1,
   "metadata": {},
   "outputs": [
    {
     "name": "stderr",
     "output_type": "stream",
     "text": [
      "f:\\anaconda\\envs\\tensorflow_js\\lib\\site-packages\\h5py\\__init__.py:36: FutureWarning: Conversion of the second argument of issubdtype from `float` to `np.floating` is deprecated. In future, it will be treated as `np.float64 == np.dtype(float).type`.\n",
      "  from ._conv import register_converters as _register_converters\n",
      "Using TensorFlow backend.\n"
     ]
    }
   ],
   "source": [
    "import keras\n",
    "import numpy as np"
   ]
  },
  {
   "cell_type": "code",
   "execution_count": 1,
   "metadata": {},
   "outputs": [
    {
     "name": "stderr",
     "output_type": "stream",
     "text": [
      "F:\\Anaconda\\envs\\tensorflow\\lib\\site-packages\\h5py\\__init__.py:36: FutureWarning: Conversion of the second argument of issubdtype from `float` to `np.floating` is deprecated. In future, it will be treated as `np.float64 == np.dtype(float).type`.\n",
      "  from ._conv import register_converters as _register_converters\n",
      "Using TensorFlow backend.\n"
     ]
    }
   ],
   "source": [
    "from keras.datasets import mnist\n",
    "(train_images, train_labels),(test_images,test_labels) = mnist.load_data()"
   ]
  },
  {
   "cell_type": "code",
   "execution_count": 4,
   "metadata": {},
   "outputs": [],
   "source": [
    "import matplotlib.pyplot as plt\n",
    "import numpy as np"
   ]
  },
  {
   "cell_type": "code",
   "execution_count": 6,
   "metadata": {},
   "outputs": [
    {
     "data": {
      "text/plain": [
       "0"
      ]
     },
     "execution_count": 6,
     "metadata": {},
     "output_type": "execute_result"
    }
   ],
   "source": [
    "np.argmin(train_images[0])"
   ]
  },
  {
   "cell_type": "code",
   "execution_count": 3,
   "metadata": {},
   "outputs": [
    {
     "name": "stdout",
     "output_type": "stream",
     "text": [
      "(60000, 28, 28, 1)\n",
      "(60000, 10)\n"
     ]
    }
   ],
   "source": [
    "# Normalize data point\n",
    "train_images = train_images/255.0\n",
    "test_images = test_images/255.0\n",
    "\n",
    "# Expand 1 dimension for convolution\n",
    "train_images = np.expand_dims(train_images,-1)\n",
    "test_images = np.expand_dims(test_images,-1)\n",
    "\n",
    "print(train_images.shape)\n",
    "\n",
    "# Reshape label array into correct [m x 1] format and one hot encode into [m x n] format\n",
    "train_labels = train_labels.reshape((-1,1))\n",
    "test_labels = test_labels.reshape((-1,1))\n",
    "# One Hot Ecode label\n",
    "from sklearn.preprocessing import OneHotEncoder, LabelEncoder\n",
    "ohc = OneHotEncoder(categorical_features=[0])\n",
    "train_labels = ohc.fit_transform(train_labels).toarray()\n",
    "test_labels = ohc.transform(test_labels).toarray()\n",
    "\n",
    "print(train_labels.shape)\n"
   ]
  },
  {
   "cell_type": "code",
   "execution_count": null,
   "metadata": {},
   "outputs": [],
   "source": []
  },
  {
   "cell_type": "code",
   "execution_count": 4,
   "metadata": {},
   "outputs": [],
   "source": [
    "from keras.models import Sequential\n",
    "from keras.layers import Conv2D, Dense, MaxPooling2D, Flatten, Dropout"
   ]
  },
  {
   "cell_type": "code",
   "execution_count": 5,
   "metadata": {},
   "outputs": [],
   "source": [
    "model = Sequential()\n",
    "model.add(Conv2D(32, kernel_size=(3, 3),\n",
    "                 activation='relu',\n",
    "                 input_shape=[28,28,1]))\n",
    "model.add(Conv2D(64, (3, 3), activation='relu'))\n",
    "model.add(MaxPooling2D(pool_size=(2, 2)))\n",
    "model.add(Dropout(0.25))\n",
    "model.add(Flatten())\n",
    "model.add(Dense(128, activation='relu'))\n",
    "model.add(Dropout(0.5))\n",
    "model.add(Dense(10, activation='softmax'))"
   ]
  },
  {
   "cell_type": "code",
   "execution_count": 6,
   "metadata": {},
   "outputs": [],
   "source": [
    "model.compile(loss=keras.losses.categorical_crossentropy,\n",
    "              optimizer=keras.optimizers.Adam(),\n",
    "              metrics=['accuracy'])"
   ]
  },
  {
   "cell_type": "code",
   "execution_count": 7,
   "metadata": {},
   "outputs": [
    {
     "name": "stdout",
     "output_type": "stream",
     "text": [
      "Train on 60000 samples, validate on 10000 samples\n",
      "Epoch 1/20\n",
      "60000/60000 [==============================] - 103s 2ms/step - loss: 0.2017 - acc: 0.9389 - val_loss: 0.0589 - val_acc: 0.9829\n",
      "Epoch 2/20\n",
      "60000/60000 [==============================] - 105s 2ms/step - loss: 0.0806 - acc: 0.9749 - val_loss: 0.0356 - val_acc: 0.9883\n",
      "Epoch 3/20\n",
      "60000/60000 [==============================] - 105s 2ms/step - loss: 0.0606 - acc: 0.9821 - val_loss: 0.0291 - val_acc: 0.9899\n",
      "Epoch 4/20\n",
      "60000/60000 [==============================] - 106s 2ms/step - loss: 0.0496 - acc: 0.9845 - val_loss: 0.0299 - val_acc: 0.9906\n",
      "Epoch 5/20\n",
      "60000/60000 [==============================] - 107s 2ms/step - loss: 0.0414 - acc: 0.9871 - val_loss: 0.0242 - val_acc: 0.9928\n",
      "Epoch 6/20\n",
      "60000/60000 [==============================] - 107s 2ms/step - loss: 0.0363 - acc: 0.9884 - val_loss: 0.0289 - val_acc: 0.9910\n",
      "Epoch 7/20\n",
      "60000/60000 [==============================] - 108s 2ms/step - loss: 0.0313 - acc: 0.9901 - val_loss: 0.0261 - val_acc: 0.9927\n",
      "Epoch 8/20\n",
      "60000/60000 [==============================] - 108s 2ms/step - loss: 0.0296 - acc: 0.9904 - val_loss: 0.0259 - val_acc: 0.9924\n",
      "Epoch 9/20\n",
      "60000/60000 [==============================] - 108s 2ms/step - loss: 0.0263 - acc: 0.9912 - val_loss: 0.0243 - val_acc: 0.9928\n",
      "Epoch 10/20\n",
      "60000/60000 [==============================] - 108s 2ms/step - loss: 0.0241 - acc: 0.9921 - val_loss: 0.0267 - val_acc: 0.9925\n",
      "Epoch 11/20\n",
      "60000/60000 [==============================] - 111s 2ms/step - loss: 0.0227 - acc: 0.9926 - val_loss: 0.0296 - val_acc: 0.9916\n",
      "Epoch 12/20\n",
      "60000/60000 [==============================] - 104s 2ms/step - loss: 0.0194 - acc: 0.9939 - val_loss: 0.0272 - val_acc: 0.9941\n",
      "Epoch 13/20\n",
      "60000/60000 [==============================] - 99s 2ms/step - loss: 0.0200 - acc: 0.9934 - val_loss: 0.0285 - val_acc: 0.9933\n",
      "Epoch 14/20\n",
      "60000/60000 [==============================] - 116s 2ms/step - loss: 0.0184 - acc: 0.9939 - val_loss: 0.0235 - val_acc: 0.9940\n",
      "Epoch 15/20\n",
      "60000/60000 [==============================] - 109s 2ms/step - loss: 0.0184 - acc: 0.9940 - val_loss: 0.0302 - val_acc: 0.9932\n",
      "Epoch 16/20\n",
      "60000/60000 [==============================] - 111s 2ms/step - loss: 0.0154 - acc: 0.9951 - val_loss: 0.0292 - val_acc: 0.9930\n",
      "Epoch 17/20\n",
      "60000/60000 [==============================] - 109s 2ms/step - loss: 0.0143 - acc: 0.9951 - val_loss: 0.0297 - val_acc: 0.9932\n",
      "Epoch 18/20\n",
      "60000/60000 [==============================] - 110s 2ms/step - loss: 0.0155 - acc: 0.9950 - val_loss: 0.0301 - val_acc: 0.9933\n",
      "Epoch 19/20\n",
      "60000/60000 [==============================] - 111s 2ms/step - loss: 0.0139 - acc: 0.9955 - val_loss: 0.0303 - val_acc: 0.9941\n",
      "Epoch 20/20\n",
      "60000/60000 [==============================] - 111s 2ms/step - loss: 0.0133 - acc: 0.9957 - val_loss: 0.0298 - val_acc: 0.9924\n"
     ]
    },
    {
     "data": {
      "text/plain": [
       "<keras.callbacks.History at 0x2af3d570dd8>"
      ]
     },
     "execution_count": 7,
     "metadata": {},
     "output_type": "execute_result"
    }
   ],
   "source": [
    "model.fit(train_images, train_labels,\n",
    "          batch_size=64,\n",
    "          epochs=20,\n",
    "          validation_data=(test_images, test_labels))"
   ]
  },
  {
   "cell_type": "code",
   "execution_count": 8,
   "metadata": {},
   "outputs": [],
   "source": [
    "import tensorflowjs as tfjs"
   ]
  },
  {
   "cell_type": "code",
   "execution_count": null,
   "metadata": {},
   "outputs": [],
   "source": []
  }
 ],
 "metadata": {
  "kernelspec": {
   "display_name": "Python 3",
   "language": "python",
   "name": "python3"
  },
  "language_info": {
   "codemirror_mode": {
    "name": "ipython",
    "version": 3
   },
   "file_extension": ".py",
   "mimetype": "text/x-python",
   "name": "python",
   "nbconvert_exporter": "python",
   "pygments_lexer": "ipython3",
   "version": "3.6.4"
  }
 },
 "nbformat": 4,
 "nbformat_minor": 2
}
